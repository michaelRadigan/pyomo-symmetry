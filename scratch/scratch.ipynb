{
 "metadata": {
  "language_info": {
   "codemirror_mode": {
    "name": "ipython",
    "version": 3
   },
   "file_extension": ".py",
   "mimetype": "text/x-python",
   "name": "python",
   "nbconvert_exporter": "python",
   "pygments_lexer": "ipython3",
   "version": "3.8.5-final"
  },
  "orig_nbformat": 2,
  "kernelspec": {
   "name": "python3",
   "display_name": "Python 3.8.5 64-bit ('sym')",
   "metadata": {
    "interpreter": {
     "hash": "d5e86785e9fe732832d299b6f297973f085eb6dc3dfaada69df948db45e6cae8"
    }
   }
  }
 },
 "nbformat": 4,
 "nbformat_minor": 2,
 "cells": [
  {
   "cell_type": "code",
   "execution_count": 42,
   "metadata": {},
   "outputs": [],
   "source": [
    "import pyomo_mps.parse\n",
    "from pyomo.kernel import SolverFactory\n",
    "import pynauty\n",
    "from collections import defaultdict\n",
    "from pyomo.repn import generate_standard_repn"
   ]
  },
  {
   "source": [
    "First, let's test that we can parse and solve enlight8 correctly:"
   ],
   "cell_type": "markdown",
   "metadata": {}
  },
  {
   "cell_type": "code",
   "execution_count": 43,
   "metadata": {},
   "outputs": [],
   "source": [
    "model = pyomo_mps.parse('/Users/michaelradigan/pyomo-mps-parser/mps/enlight8.mps')\n"
   ]
  },
  {
   "cell_type": "code",
   "execution_count": 44,
   "metadata": {},
   "outputs": [
    {
     "output_type": "stream",
     "name": "stdout",
     "text": [
      "# ==========================================================\n# = Solver Results                                         =\n# ==========================================================\n# ----------------------------------------------------------\n#   Problem Information\n# ----------------------------------------------------------\nProblem: \n- Name: unknown\n  Lower bound: 27.0\n  Upper bound: 27.0\n  Number of objectives: 1\n  Number of constraints: 64\n  Number of variables: 128\n  Number of binary variables: 64\n  Number of integer variables: 128\n  Number of nonzeros: 64\n  Sense: minimize\n# ----------------------------------------------------------\n#   Solver Information\n# ----------------------------------------------------------\nSolver: \n- Status: ok\n  User time: -1.0\n  System time: 24.82\n  Wallclock time: 25.57\n  Termination condition: optimal\n  Termination message: Model was solved to optimality (subject to tolerances), and an optimal solution is available.\n  Statistics: \n    Branch and bound: \n      Number of bounded subproblems: 140355\n      Number of created subproblems: 140355\n    Black box: \n      Number of iterations: 1420598\n  Error rc: 0\n  Time: 25.58951497077942\n# ----------------------------------------------------------\n#   Solution Information\n# ----------------------------------------------------------\nSolution: \n- number of solutions: 1\n  number of solutions displayed: 1\n- Gap: 0.0\n  Status: optimal\n  Objective:\n    __default_objective__:\n      Value: 27\n  Variable:\n    ONE_VAR_CONSTANT:\n      Value: 1\n    x1:\n      Value: 1\n    x100:\n      Value: 1\n    x101:\n      Value: 1\n    x102:\n      Value: 1\n    x103:\n      Value: 1\n    x104:\n      Value: 2\n    x105:\n      Value: 1\n    x106:\n      Value: 1\n    x107:\n      Value: 1\n    x108:\n      Value: 1\n    x109:\n      Value: 1\n    x110:\n      Value: 1\n    x111:\n      Value: 1\n    x113:\n      Value: 1\n    x114:\n      Value: 1\n    x115:\n      Value: 1\n    x116:\n      Value: 2\n    x117:\n      Value: 1\n    x118:\n      Value: 1\n    x119:\n      Value: 1\n    x120:\n      Value: 1\n    x121:\n      Value: 1\n    x122:\n      Value: 1\n    x123:\n      Value: 1\n    x125:\n      Value: 2\n    x13:\n      Value: 1\n    x15:\n      Value: 1\n    x2:\n      Value: 1\n    x22:\n      Value: 1\n    x23:\n      Value: 1\n    x24:\n      Value: 1\n    x25:\n      Value: 1\n    x33:\n      Value: 1\n    x34:\n      Value: 1\n    x38:\n      Value: 1\n    x39:\n      Value: 1\n    x4:\n      Value: 1\n    x40:\n      Value: 1\n    x41:\n      Value: 1\n    x43:\n      Value: 1\n    x45:\n      Value: 1\n    x47:\n      Value: 1\n    x5:\n      Value: 1\n    x50:\n      Value: 1\n    x51:\n      Value: 1\n    x53:\n      Value: 1\n    x54:\n      Value: 1\n    x59:\n      Value: 1\n    x6:\n      Value: 1\n    x61:\n      Value: 1\n    x65:\n      Value: 1\n    x67:\n      Value: 1\n    x68:\n      Value: 1\n    x69:\n      Value: 2\n    x70:\n      Value: 1\n    x74:\n      Value: 1\n    x75:\n      Value: 1\n    x76:\n      Value: 2\n    x77:\n      Value: 1\n    x81:\n      Value: 1\n    x82:\n      Value: 1\n    x83:\n      Value: 1\n    x84:\n      Value: 1\n    x86:\n      Value: 1\n    x87:\n      Value: 1\n    x88:\n      Value: 2\n    x89:\n      Value: 2\n    x9:\n      Value: 1\n    x90:\n      Value: 1\n    x91:\n      Value: 1\n    x92:\n      Value: 1\n    x93:\n      Value: 2\n    x94:\n      Value: 1\n    x95:\n      Value: 1\n    x96:\n      Value: 2\n    x97:\n      Value: 1\n    x98:\n      Value: 2\n    x99:\n      Value: 1\n  Constraint: No values\n  Symbol map: <pyomo.core.expr.symbol_map.SymbolMap object at 0x10a635520>\n  Default variable value: None\n27.0\n"
     ]
    }
   ],
   "source": [
    "opt = SolverFactory('cbc').solve(model)\n",
    "opt.write()\n",
    "print(model.o())"
   ]
  },
  {
   "source": [
    "Wonderful, now let's test that we have nauty configured correctly:"
   ],
   "cell_type": "markdown",
   "metadata": {}
  },
  {
   "cell_type": "code",
   "execution_count": 45,
   "metadata": {},
   "outputs": [
    {
     "output_type": "execute_result",
     "data": {
      "text/plain": [
       "([[3, 4, 2, 0, 1]], 2.0, 0, [0, 1, 2, 0, 1], 3)"
      ]
     },
     "metadata": {},
     "execution_count": 45
    }
   ],
   "source": [
    "from pynauty import *\n",
    "g = Graph(5)\n",
    "g.connect_vertex(0, [1, 2, 3])\n",
    "g.connect_vertex(2, [1, 3, 4])\n",
    "g.connect_vertex(4, [3])\n",
    "autgrp(g)"
   ]
  },
  {
   "cell_type": "code",
   "execution_count": 46,
   "metadata": {},
   "outputs": [],
   "source": [
    "# {k:v for k,v in model.vd.items()}"
   ]
  },
  {
   "cell_type": "code",
   "execution_count": 63,
   "metadata": {
    "tags": []
   },
   "outputs": [
    {
     "output_type": "error",
     "ename": "AttributeError",
     "evalue": "'StandardRepn' object has no attribute 'linear'",
     "traceback": [
      "\u001b[0;31m---------------------------------------------------------------------------\u001b[0m",
      "\u001b[0;31mAttributeError\u001b[0m                            Traceback (most recent call last)",
      "\u001b[0;32m<ipython-input-63-fb404e356f52>\u001b[0m in \u001b[0;36m<module>\u001b[0;34m\u001b[0m\n\u001b[1;32m      1\u001b[0m \u001b[0;32mfor\u001b[0m \u001b[0mname\u001b[0m\u001b[0;34m,\u001b[0m \u001b[0mcon\u001b[0m \u001b[0;32min\u001b[0m \u001b[0mmodel\u001b[0m\u001b[0;34m.\u001b[0m\u001b[0mc\u001b[0m\u001b[0;34m.\u001b[0m\u001b[0mitems\u001b[0m\u001b[0;34m(\u001b[0m\u001b[0;34m)\u001b[0m\u001b[0;34m:\u001b[0m\u001b[0;34m\u001b[0m\u001b[0;34m\u001b[0m\u001b[0m\n\u001b[1;32m      2\u001b[0m     \u001b[0mrepn\u001b[0m \u001b[0;34m=\u001b[0m \u001b[0mgenerate_standard_repn\u001b[0m\u001b[0;34m(\u001b[0m\u001b[0mcon\u001b[0m\u001b[0;34m.\u001b[0m\u001b[0mbody\u001b[0m\u001b[0;34m)\u001b[0m\u001b[0;34m\u001b[0m\u001b[0;34m\u001b[0m\u001b[0m\n\u001b[0;32m----> 3\u001b[0;31m     \u001b[0;32mfor\u001b[0m \u001b[0mi\u001b[0m\u001b[0;34m,\u001b[0m \u001b[0mcoefficient\u001b[0m \u001b[0;32min\u001b[0m \u001b[0menumerate\u001b[0m\u001b[0;34m(\u001b[0m\u001b[0mrepn\u001b[0m\u001b[0;34m.\u001b[0m\u001b[0mlinear\u001b[0m \u001b[0;32mor\u001b[0m \u001b[0;34m[\u001b[0m\u001b[0;34m]\u001b[0m\u001b[0;34m)\u001b[0m\u001b[0;34m:\u001b[0m\u001b[0;34m\u001b[0m\u001b[0;34m\u001b[0m\u001b[0m\n\u001b[0m\u001b[1;32m      4\u001b[0m         \u001b[0mvariable\u001b[0m \u001b[0;34m=\u001b[0m \u001b[0mrepn\u001b[0m\u001b[0;34m.\u001b[0m\u001b[0mvariables\u001b[0m\u001b[0;34m[\u001b[0m\u001b[0mi\u001b[0m\u001b[0;34m]\u001b[0m\u001b[0;34m\u001b[0m\u001b[0;34m\u001b[0m\u001b[0m\n\u001b[1;32m      5\u001b[0m         \u001b[0mprint\u001b[0m\u001b[0;34m(\u001b[0m\u001b[0mi\u001b[0m\u001b[0;34m,\u001b[0m \u001b[0mcoefficient\u001b[0m\u001b[0;34m,\u001b[0m \u001b[0mvariable\u001b[0m\u001b[0;34m)\u001b[0m\u001b[0;34m\u001b[0m\u001b[0;34m\u001b[0m\u001b[0m\n",
      "\u001b[0;31mAttributeError\u001b[0m: 'StandardRepn' object has no attribute 'linear'"
     ]
    }
   ],
   "source": [
    "for name, con in model.c.items():\n",
    "    repn = generate_standard_repn(con.body)\n",
    "    for i, coefficient in enumerate(repn.linear or []):\n",
    "        variable = repn.variables[i]\n",
    "        print(i, coefficient, variable)\n",
    "    print(repn)"
   ]
  },
  {
   "source": [
    "So, we have a model that contains: \n",
    "\n",
    "{\n",
    "    o : the objective function,\n",
    "    c : a constraint_dict,\n",
    "    vd : a variable_dict,\n",
    "}"
   ],
   "cell_type": "markdown",
   "metadata": {}
  },
  {
   "cell_type": "code",
   "execution_count": 23,
   "metadata": {},
   "outputs": [],
   "source": [
    "def construct_graph_old(model):\n",
    "    \"\"\" Given a compatible pyomo model and constructs a graph whose automorphism group is a bijection from the symmetry group of the model\"\"\"\n",
    "    # TODO[michaelr]: We're going to assume that there is at least on variable and at leat one constraint\n",
    "    num_constraints = len(model.c)\n",
    "    num_variables = len(model.vd)\n",
    "    assert num_variables > 0 and num_constraints > 0\n",
    "    intermediate_colourings = defaultdict(set)\n",
    "    adjacency_dict = defaultdict(list)\n",
    "    coalesce_dict = {}\n",
    "\n",
    "\n"
   ]
  },
  {
   "cell_type": "code",
   "execution_count": null,
   "metadata": {},
   "outputs": [],
   "source": [
    "def construct_graph(model):\n",
    "    \"\"\" Given a compatible pyomo model and constructs a graph whose automorphism group is a bijection from the symmetry group of the model\"\"\"\n",
    "    # TODO[michaelr]: We're going to assume that there is at least on variable and at leat one constraint\n",
    "    num_constraints = len(model.c)\n",
    "    num_variables = len(model.vd)\n",
    "    assert num_variables > 0 and num_constraints > 0\n",
    "    intermediate_colourings = defaultdict(set)\n",
    "    adjacency_dict = defaultdict(list)\n",
    "    \n",
    "    # Let's make 0 to num_constraints-1 the constraints\n",
    "    # Let's also do this super carefully, super verbose and super carefully\n",
    "    vertices = []\n",
    "    for i in range()\n",
    "\n",
    "\n",
    "\n",
    "\n",
    "\n"
   ]
  },
  {
   "cell_type": "code",
   "execution_count": 24,
   "metadata": {},
   "outputs": [],
   "source": [
    "construct_graph(model)"
   ]
  },
  {
   "cell_type": "code",
   "execution_count": null,
   "metadata": {},
   "outputs": [],
   "source": [
    "num_constraints = len(model.c)\n",
    "num_variables = len(model.vd)\n",
    "print(num_constraints)\n",
    "print(num_variables)"
   ]
  },
  {
   "cell_type": "code",
   "execution_count": 53,
   "metadata": {},
   "outputs": [
    {
     "output_type": "stream",
     "name": "stdout",
     "text": [
      "inner_area_1\ninner_area_2\ninner_area_3\ninner_area_4\ninner_area_5\ninner_area_6\ninner_area_7\ninner_area_8\ninner_area_9\ninner_area_10\ninner_area_11\ninner_area_12\ninner_area_13\ninner_area_14\ninner_area_15\ninner_area_16\ninner_area_17\ninner_area_18\ninner_area_19\ninner_area_20\ninner_area_21\ninner_area_22\ninner_area_23\ninner_area_24\ninner_area_25\ninner_area_26\ninner_area_27\ninner_area_28\ninner_area_29\ninner_area_30\ninner_area_31\ninner_area_32\ninner_area_33\ninner_area_34\ninner_area_35\ninner_area_36\nupper_border_1\nupper_border_2\nupper_border_3\nupper_border_4\nupper_border_5\nupper_border_6\nlower_border_1\nlower_border_2\nlower_border_3\nlower_border_4\nlower_border_5\nlower_border_6\nleft_border_1\nleft_border_2\nleft_border_3\nleft_border_4\nleft_border_5\nleft_border_6\nright_border_1\nright_border_2\nright_border_3\nright_border_4\nright_border_5\nright_border_6\nleft_upper_co@3c\nleft_lower_co@3d\nright_upper_c@3e\nright_lower_c@3f\n"
     ]
    }
   ],
   "source": [
    "[k for k in model.c.items()]\n",
    "\n",
    "for con in model.c:\n",
    "    print(con)"
   ]
  },
  {
   "cell_type": "code",
   "execution_count": 38,
   "metadata": {},
   "outputs": [
    {
     "output_type": "execute_result",
     "data": {
      "text/plain": [
       "[('x#1#1', <pyomo.core.kernel.variable.variable at 0x1095afc80>),\n",
       " ('x#1#2', <pyomo.core.kernel.variable.variable at 0x1095afcf0>),\n",
       " ('x#1#3', <pyomo.core.kernel.variable.variable at 0x1095afd60>),\n",
       " ('x#1#4', <pyomo.core.kernel.variable.variable at 0x1095afdd0>),\n",
       " ('x#1#5', <pyomo.core.kernel.variable.variable at 0x1095afe40>),\n",
       " ('x#1#6', <pyomo.core.kernel.variable.variable at 0x1095afeb0>),\n",
       " ('x#1#7', <pyomo.core.kernel.variable.variable at 0x1095aff20>),\n",
       " ('x#1#8', <pyomo.core.kernel.variable.variable at 0x1095aff90>),\n",
       " ('x#2#1', <pyomo.core.kernel.variable.variable at 0x1095b2040>),\n",
       " ('x#2#2', <pyomo.core.kernel.variable.variable at 0x1095b2120>),\n",
       " ('x#2#3', <pyomo.core.kernel.variable.variable at 0x1095b2190>),\n",
       " ('x#2#4', <pyomo.core.kernel.variable.variable at 0x1095b2200>),\n",
       " ('x#2#5', <pyomo.core.kernel.variable.variable at 0x1095b2270>),\n",
       " ('x#2#6', <pyomo.core.kernel.variable.variable at 0x1095b22e0>),\n",
       " ('x#2#7', <pyomo.core.kernel.variable.variable at 0x1095b2350>),\n",
       " ('x#2#8', <pyomo.core.kernel.variable.variable at 0x1095b23c0>),\n",
       " ('x#3#1', <pyomo.core.kernel.variable.variable at 0x1095b2430>),\n",
       " ('x#3#2', <pyomo.core.kernel.variable.variable at 0x1095b24a0>),\n",
       " ('x#3#3', <pyomo.core.kernel.variable.variable at 0x1095b2510>),\n",
       " ('x#3#4', <pyomo.core.kernel.variable.variable at 0x1095b2580>),\n",
       " ('x#3#5', <pyomo.core.kernel.variable.variable at 0x1095b25f0>),\n",
       " ('x#3#6', <pyomo.core.kernel.variable.variable at 0x1095b2660>),\n",
       " ('x#3#7', <pyomo.core.kernel.variable.variable at 0x1095b26d0>),\n",
       " ('x#3#8', <pyomo.core.kernel.variable.variable at 0x1095b2740>),\n",
       " ('x#4#1', <pyomo.core.kernel.variable.variable at 0x1095b27b0>),\n",
       " ('x#4#2', <pyomo.core.kernel.variable.variable at 0x1095b2820>),\n",
       " ('x#4#3', <pyomo.core.kernel.variable.variable at 0x1095b2890>),\n",
       " ('x#4#4', <pyomo.core.kernel.variable.variable at 0x1095b2900>),\n",
       " ('x#4#5', <pyomo.core.kernel.variable.variable at 0x1095b2970>),\n",
       " ('x#4#6', <pyomo.core.kernel.variable.variable at 0x1095b29e0>),\n",
       " ('x#4#7', <pyomo.core.kernel.variable.variable at 0x1095b2a50>),\n",
       " ('x#4#8', <pyomo.core.kernel.variable.variable at 0x1095b2ac0>),\n",
       " ('x#5#1', <pyomo.core.kernel.variable.variable at 0x1095b2b30>),\n",
       " ('x#5#2', <pyomo.core.kernel.variable.variable at 0x1095b2ba0>),\n",
       " ('x#5#3', <pyomo.core.kernel.variable.variable at 0x1095b2c10>),\n",
       " ('x#5#4', <pyomo.core.kernel.variable.variable at 0x1095b2c80>),\n",
       " ('x#5#5', <pyomo.core.kernel.variable.variable at 0x1095b2cf0>),\n",
       " ('x#5#6', <pyomo.core.kernel.variable.variable at 0x1095b2d60>),\n",
       " ('x#5#7', <pyomo.core.kernel.variable.variable at 0x1095b2dd0>),\n",
       " ('x#5#8', <pyomo.core.kernel.variable.variable at 0x1095b2e40>),\n",
       " ('x#6#1', <pyomo.core.kernel.variable.variable at 0x1095b2eb0>),\n",
       " ('x#6#2', <pyomo.core.kernel.variable.variable at 0x1095b2f20>),\n",
       " ('x#6#3', <pyomo.core.kernel.variable.variable at 0x1095b2f90>),\n",
       " ('x#6#4', <pyomo.core.kernel.variable.variable at 0x1095b5040>),\n",
       " ('x#6#5', <pyomo.core.kernel.variable.variable at 0x1095b50b0>),\n",
       " ('x#6#6', <pyomo.core.kernel.variable.variable at 0x1095b5120>),\n",
       " ('x#6#7', <pyomo.core.kernel.variable.variable at 0x1095b5190>),\n",
       " ('x#6#8', <pyomo.core.kernel.variable.variable at 0x1095b5200>),\n",
       " ('x#7#1', <pyomo.core.kernel.variable.variable at 0x1095b5270>),\n",
       " ('x#7#2', <pyomo.core.kernel.variable.variable at 0x1095b52e0>),\n",
       " ('x#7#3', <pyomo.core.kernel.variable.variable at 0x1095b5350>),\n",
       " ('x#7#4', <pyomo.core.kernel.variable.variable at 0x1095b53c0>),\n",
       " ('x#7#5', <pyomo.core.kernel.variable.variable at 0x1095b5430>),\n",
       " ('x#7#6', <pyomo.core.kernel.variable.variable at 0x1095b54a0>),\n",
       " ('x#7#7', <pyomo.core.kernel.variable.variable at 0x1095b5510>),\n",
       " ('x#7#8', <pyomo.core.kernel.variable.variable at 0x1095b5580>),\n",
       " ('x#8#1', <pyomo.core.kernel.variable.variable at 0x1095b55f0>),\n",
       " ('x#8#2', <pyomo.core.kernel.variable.variable at 0x1095b5660>),\n",
       " ('x#8#3', <pyomo.core.kernel.variable.variable at 0x1095b56d0>),\n",
       " ('x#8#4', <pyomo.core.kernel.variable.variable at 0x1095b5740>),\n",
       " ('x#8#5', <pyomo.core.kernel.variable.variable at 0x1095b57b0>),\n",
       " ('x#8#6', <pyomo.core.kernel.variable.variable at 0x1095b5820>),\n",
       " ('x#8#7', <pyomo.core.kernel.variable.variable at 0x1095b5890>),\n",
       " ('x#8#8', <pyomo.core.kernel.variable.variable at 0x1095b5900>),\n",
       " ('y#2#2', <pyomo.core.kernel.variable.variable at 0x1095b5970>),\n",
       " ('y#2#3', <pyomo.core.kernel.variable.variable at 0x1095b59e0>),\n",
       " ('y#2#4', <pyomo.core.kernel.variable.variable at 0x1095b5a50>),\n",
       " ('y#2#5', <pyomo.core.kernel.variable.variable at 0x1095b5ac0>),\n",
       " ('y#2#6', <pyomo.core.kernel.variable.variable at 0x1095b5b30>),\n",
       " ('y#2#7', <pyomo.core.kernel.variable.variable at 0x1095b5ba0>),\n",
       " ('y#3#2', <pyomo.core.kernel.variable.variable at 0x1095b5c10>),\n",
       " ('y#3#3', <pyomo.core.kernel.variable.variable at 0x1095b5c80>),\n",
       " ('y#3#4', <pyomo.core.kernel.variable.variable at 0x1095b5cf0>),\n",
       " ('y#3#5', <pyomo.core.kernel.variable.variable at 0x1095aa0b0>),\n",
       " ('y#3#6', <pyomo.core.kernel.variable.variable at 0x1095b5d60>),\n",
       " ('y#3#7', <pyomo.core.kernel.variable.variable at 0x1095b5dd0>),\n",
       " ('y#4#2', <pyomo.core.kernel.variable.variable at 0x1095b5e40>),\n",
       " ('y#4#3', <pyomo.core.kernel.variable.variable at 0x1095b5eb0>),\n",
       " ('y#4#4', <pyomo.core.kernel.variable.variable at 0x1095b5f20>),\n",
       " ('y#4#5', <pyomo.core.kernel.variable.variable at 0x1095b5f90>),\n",
       " ('y#4#6', <pyomo.core.kernel.variable.variable at 0x1095b8040>),\n",
       " ('y#4#7', <pyomo.core.kernel.variable.variable at 0x1095b80b0>),\n",
       " ('y#5#2', <pyomo.core.kernel.variable.variable at 0x1095b8120>),\n",
       " ('y#5#3', <pyomo.core.kernel.variable.variable at 0x1095b8190>),\n",
       " ('y#5#4', <pyomo.core.kernel.variable.variable at 0x1095b8200>),\n",
       " ('y#5#5', <pyomo.core.kernel.variable.variable at 0x1095b8270>),\n",
       " ('y#5#6', <pyomo.core.kernel.variable.variable at 0x1095b82e0>),\n",
       " ('y#5#7', <pyomo.core.kernel.variable.variable at 0x1095b8350>),\n",
       " ('y#6#2', <pyomo.core.kernel.variable.variable at 0x1095b83c0>),\n",
       " ('y#6#3', <pyomo.core.kernel.variable.variable at 0x1095b8430>),\n",
       " ('y#6#4', <pyomo.core.kernel.variable.variable at 0x1095b84a0>),\n",
       " ('y#6#5', <pyomo.core.kernel.variable.variable at 0x1095b8510>),\n",
       " ('y#6#6', <pyomo.core.kernel.variable.variable at 0x1095b8580>),\n",
       " ('y#6#7', <pyomo.core.kernel.variable.variable at 0x1095b85f0>),\n",
       " ('y#7#2', <pyomo.core.kernel.variable.variable at 0x1095b8660>),\n",
       " ('y#7#3', <pyomo.core.kernel.variable.variable at 0x1095b86d0>),\n",
       " ('y#7#4', <pyomo.core.kernel.variable.variable at 0x1095b8740>),\n",
       " ('y#7#5', <pyomo.core.kernel.variable.variable at 0x1095b87b0>),\n",
       " ('y#7#6', <pyomo.core.kernel.variable.variable at 0x1095b8820>),\n",
       " ('y#7#7', <pyomo.core.kernel.variable.variable at 0x1095b8890>),\n",
       " ('y#1#2', <pyomo.core.kernel.variable.variable at 0x1095b8900>),\n",
       " ('y#1#3', <pyomo.core.kernel.variable.variable at 0x1095b8970>),\n",
       " ('y#1#4', <pyomo.core.kernel.variable.variable at 0x1095b89e0>),\n",
       " ('y#1#5', <pyomo.core.kernel.variable.variable at 0x1095b8a50>),\n",
       " ('y#1#6', <pyomo.core.kernel.variable.variable at 0x1095b8ac0>),\n",
       " ('y#1#7', <pyomo.core.kernel.variable.variable at 0x1095b8b30>),\n",
       " ('y#8#2', <pyomo.core.kernel.variable.variable at 0x1095b8ba0>),\n",
       " ('y#8#3', <pyomo.core.kernel.variable.variable at 0x1095b8c10>),\n",
       " ('y#8#4', <pyomo.core.kernel.variable.variable at 0x1095b8c80>),\n",
       " ('y#8#5', <pyomo.core.kernel.variable.variable at 0x1095b8cf0>),\n",
       " ('y#8#6', <pyomo.core.kernel.variable.variable at 0x1095b8d60>),\n",
       " ('y#8#7', <pyomo.core.kernel.variable.variable at 0x1095b8dd0>),\n",
       " ('y#2#1', <pyomo.core.kernel.variable.variable at 0x1095b8e40>),\n",
       " ('y#3#1', <pyomo.core.kernel.variable.variable at 0x1095b8eb0>),\n",
       " ('y#4#1', <pyomo.core.kernel.variable.variable at 0x1095b8f20>),\n",
       " ('y#5#1', <pyomo.core.kernel.variable.variable at 0x1095b8f90>),\n",
       " ('y#6#1', <pyomo.core.kernel.variable.variable at 0x1095ba040>),\n",
       " ('y#7#1', <pyomo.core.kernel.variable.variable at 0x1095ba0b0>),\n",
       " ('y#2#8', <pyomo.core.kernel.variable.variable at 0x1095ba120>),\n",
       " ('y#3#8', <pyomo.core.kernel.variable.variable at 0x1095ba190>),\n",
       " ('y#4#8', <pyomo.core.kernel.variable.variable at 0x1095ba200>),\n",
       " ('y#5#8', <pyomo.core.kernel.variable.variable at 0x1095ba270>),\n",
       " ('y#6#8', <pyomo.core.kernel.variable.variable at 0x1095ba2e0>),\n",
       " ('y#7#8', <pyomo.core.kernel.variable.variable at 0x1095ba350>),\n",
       " ('y#1#1', <pyomo.core.kernel.variable.variable at 0x1095ba3c0>),\n",
       " ('y#8#1', <pyomo.core.kernel.variable.variable at 0x1095ba430>),\n",
       " ('y#1#8', <pyomo.core.kernel.variable.variable at 0x1095ba4a0>),\n",
       " ('y#8#8', <pyomo.core.kernel.variable.variable at 0x1095ba510>)]"
      ]
     },
     "metadata": {},
     "execution_count": 38
    }
   ],
   "source": [
    "[k for k in model.vd.items()]"
   ]
  },
  {
   "cell_type": "code",
   "execution_count": null,
   "metadata": {},
   "outputs": [],
   "source": []
  }
 ]
}